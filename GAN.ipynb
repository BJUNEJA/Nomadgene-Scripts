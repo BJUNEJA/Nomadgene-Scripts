{
  "nbformat": 4,
  "nbformat_minor": 0,
  "metadata": {
    "colab": {
      "name": "GAN.ipynb",
      "provenance": [],
      "collapsed_sections": [],
      "mount_file_id": "1_5oXEzsYgLyeVc9i5a7W6WzP6fWb3bJy",
      "authorship_tag": "ABX9TyNGb0rF4yLta6nGE7+OLlnU",
      "include_colab_link": true
    },
    "kernelspec": {
      "name": "python3",
      "display_name": "Python 3"
    }
  },
  "cells": [
    {
      "cell_type": "markdown",
      "metadata": {
        "id": "view-in-github",
        "colab_type": "text"
      },
      "source": [
        "<a href=\"https://colab.research.google.com/github/BJUNEJA/nomadgene/blob/master/GAN.ipynb\" target=\"_parent\"><img src=\"https://colab.research.google.com/assets/colab-badge.svg\" alt=\"Open In Colab\"/></a>"
      ]
    },
    {
      "cell_type": "code",
      "metadata": {
        "id": "UQKy4OH5GaO_",
        "colab_type": "code",
        "colab": {}
      },
      "source": [
        "import torch\n",
        "import torchvision \n",
        "import torchvision.transforms as transforms \n",
        "import matplotlib.pyplot as plt\n",
        "import numpy as np\n",
        "import torch.nn as nn\n",
        "import torch.nn.functional as F\n",
        "import torch.optim as optim\n",
        "import matplotlib.pyplot as plt\n",
        "from torch.autograd import Variable\n",
        "from torchvision.utils import save_image\n"
      ],
      "execution_count": 0,
      "outputs": []
    },
    {
      "cell_type": "code",
      "metadata": {
        "id": "XEK3REeXGfaP",
        "colab_type": "code",
        "outputId": "210af85e-0f13-4958-b91b-4f7fa3de72cd",
        "colab": {
          "base_uri": "https://localhost:8080/",
          "height": 33
        }
      },
      "source": [
        "## set up hyperparameters\n",
        "n_epoch = 50\n",
        "batch_size_train = 100\n",
        "batch_size_test = 1000\n",
        "learning_rate = 0.0002\n",
        "log_interval = 10\n",
        "random_seed = 1\n",
        "torch.backends.cudnn.enabled = False\n",
        "torch.manual_seed(random_seed)"
      ],
      "execution_count": 0,
      "outputs": [
        {
          "output_type": "execute_result",
          "data": {
            "text/plain": [
              "<torch._C.Generator at 0x7f4dc085f250>"
            ]
          },
          "metadata": {
            "tags": []
          },
          "execution_count": 90
        }
      ]
    },
    {
      "cell_type": "code",
      "metadata": {
        "id": "IOVMSr00Gj4t",
        "colab_type": "code",
        "colab": {}
      },
      "source": [
        "train_loader = torch.utils.data.DataLoader(\n",
        "  torchvision.datasets.MNIST('/files/', train=True, download=True,\n",
        "                             transform=torchvision.transforms.Compose([\n",
        "                               torchvision.transforms.ToTensor(),\n",
        "                               torchvision.transforms.Normalize(\n",
        "                                 (0.1307,), (0.3081,))\n",
        "                             ])),\n",
        "  batch_size=batch_size_train, shuffle=True)\n",
        "\n",
        "test_loader = torch.utils.data.DataLoader(\n",
        "  torchvision.datasets.MNIST('/files/', train=False, download=True,\n",
        "                             transform=torchvision.transforms.Compose([\n",
        "                               torchvision.transforms.ToTensor(),\n",
        "                               torchvision.transforms.Normalize(\n",
        "                                 (0.1307,), (0.3081,))\n",
        "                             ])),\n",
        "  batch_size=batch_size_test, shuffle=True)"
      ],
      "execution_count": 0,
      "outputs": []
    },
    {
      "cell_type": "code",
      "metadata": {
        "id": "LDfu5PXvG4i1",
        "colab_type": "code",
        "colab": {}
      },
      "source": [
        "class Generator(nn.Module):\n",
        "    def __init__(self):\n",
        "        super(Generator, self).__init__()       \n",
        "        \n",
        "        self.fc1 = nn.Linear(128, 256)\n",
        "        self.fc2 = nn.Linear(256, 512)\n",
        "        self.fc3 = nn.Linear(512, 784)\n",
        "           \n",
        "    def forward(self, x): \n",
        "        x = F.leaky_relu(self.fc1(x), 0.2)\n",
        "        x = F.leaky_relu(self.fc2(x), 0.2)\n",
        "        return torch.tanh(self.fc3(x))"
      ],
      "execution_count": 0,
      "outputs": []
    },
    {
      "cell_type": "code",
      "metadata": {
        "id": "PF6dP6BCH5hz",
        "colab_type": "code",
        "colab": {}
      },
      "source": [
        "class Discriminator(nn.Module):\n",
        "    def __init__(self):\n",
        "        super(Discriminator, self).__init__()\n",
        "        self.fc1 = nn.Linear(784, 512)\n",
        "        self.fc2 = nn.Linear(512, 256)\n",
        "        self.fc3 = nn.Linear(256, 1)\n",
        "       \n",
        "    def forward(self, x):\n",
        "        x = F.leaky_relu(self.fc1(x), 0.2)\n",
        "        x = F.leaky_relu(self.fc2(x), 0.2)\n",
        "        return torch.sigmoid(self.fc3(x))"
      ],
      "execution_count": 0,
      "outputs": []
    },
    {
      "cell_type": "code",
      "metadata": {
        "id": "4f6xy7SKI626",
        "colab_type": "code",
        "colab": {}
      },
      "source": [
        "G = Generator()\n",
        "D = Discriminator()\n",
        "criterion = nn.BCELoss() \n",
        "G_opt = optim.Adam(G.parameters(), lr = learning_rate)\n",
        "D_opt = optim.Adam(D.parameters(), lr = learning_rate)"
      ],
      "execution_count": 0,
      "outputs": []
    },
    {
      "cell_type": "code",
      "metadata": {
        "id": "ICwG170LLUk9",
        "colab_type": "code",
        "colab": {}
      },
      "source": [
        "def G_train(x):\n",
        "    G_opt.zero_grad()\n",
        "    z = Variable(torch.randn(100, 128))\n",
        "    y = Variable(torch.ones(100, 1))\n",
        "    G_output = G(z)\n",
        "    D_output = D(G_output)\n",
        "    G_loss = criterion(D_output, y)\n",
        "    # gradient backprop & optimize ONLY G's parameters\n",
        "    G_loss.backward()\n",
        "    G_opt.step()\n",
        "    return G_loss.data.item()"
      ],
      "execution_count": 0,
      "outputs": []
    },
    {
      "cell_type": "code",
      "metadata": {
        "id": "hs2uOZgRMCa2",
        "colab_type": "code",
        "colab": {}
      },
      "source": [
        "def D_train(x):\n",
        "    D_opt.zero_grad()\n",
        "    # train discriminator on real\n",
        "    x_real, y_real = x.view(-1, 28*28), torch.ones(batch_size_train, 1)\n",
        "    x_real, y_real = Variable(x_real), Variable(y_real)\n",
        "    D_output = D(x_real)\n",
        "    D_real_loss = criterion(D_output, y_real)\n",
        "    D_real_score = D_output\n",
        "    z = Variable(torch.randn(100, 128))\n",
        "    x_fake, y_fake = G(z), Variable(torch.zeros(100, 1))\n",
        "    D_output = D(x_fake)\n",
        "    D_fake_loss = criterion(D_output, y_fake)\n",
        "    D_fake_score = D_output\n",
        "    D_loss = D_real_loss + D_fake_loss\n",
        "    D_loss.backward()\n",
        "    D_opt.step()\n",
        "        \n",
        "    return  D_loss.data.item()"
      ],
      "execution_count": 0,
      "outputs": []
    },
    {
      "cell_type": "code",
      "metadata": {
        "id": "INyqpk3Ji7aU",
        "colab_type": "code",
        "colab": {}
      },
      "source": [
        "train_index = []\n",
        "D_losses =[]\n",
        "G_losses = []\n",
        "epoch_list =[]\n",
        "epoch_D_losses=[]\n",
        "epoch_G_losses =[] \n"
      ],
      "execution_count": 0,
      "outputs": []
    },
    {
      "cell_type": "code",
      "metadata": {
        "id": "fKk5wB8BMcYK",
        "colab_type": "code",
        "outputId": "2a05971d-794c-42e2-81a4-fd34f1227760",
        "colab": {
          "base_uri": "https://localhost:8080/",
          "height": 1000
        }
      },
      "source": [
        "test_z = Variable(torch.randn(100, 128))\n",
        "for epoch in range(1, n_epoch+1):           \n",
        "    \n",
        "    for batch_idx, (x, _) in enumerate(train_loader):\n",
        "        D_losses.append(D_train(x))\n",
        "        G_losses.append(G_train(x))\n",
        "        train_index.append((batch_idx*32) + ((epoch-1)*len(train_loader.dataset))) \n",
        "    \n",
        "    print('[%d/%d]: loss_d: %.3f, loss_g: %.3f' % (\n",
        "            (epoch), n_epoch, torch.mean(torch.FloatTensor(D_losses)), torch.mean(torch.FloatTensor(G_losses))))\n",
        "    \n",
        "    epoch_list.append(epoch)\n",
        "    epoch_D_losses.append(torch.mean(torch.FloatTensor(D_losses)))\n",
        "    epoch_G_losses.append(torch.mean(torch.FloatTensor(G_losses)))\n",
        "    \n",
        "    \n",
        "    generated = G(test_z)\n",
        "    save_image(generated.view(generated.size(0), 1, 28, 28), 'Epoch_%03d.png' % (epoch))\n",
        "\n",
        "fig = plt.figure()\n",
        "plt.plot(epoch_list, epoch_D_losses, color='green')\n",
        "plt.plot(epoch_list, epoch_G_losses, color='blue')\n",
        "plt.xlabel('Epoch')\n",
        "plt.ylabel('Binary cross entropy loss')\n",
        "\n",
        "torch.save(G, './hw5gangen.pth')\n",
        "torch.save(D,'hw5gandis.pth')"
      ],
      "execution_count": 0,
      "outputs": [
        {
          "output_type": "stream",
          "text": [
            "[1/50]: loss_d: 0.695, loss_g: 2.544\n",
            "[2/50]: loss_d: 0.506, loss_g: 2.845\n",
            "[3/50]: loss_d: 0.383, loss_g: 3.566\n",
            "[4/50]: loss_d: 0.320, loss_g: 3.992\n",
            "[5/50]: loss_d: 0.284, loss_g: 4.385\n",
            "[6/50]: loss_d: 0.258, loss_g: 4.772\n",
            "[7/50]: loss_d: 0.233, loss_g: 4.976\n",
            "[8/50]: loss_d: 0.214, loss_g: 5.163\n",
            "[9/50]: loss_d: 0.198, loss_g: 5.369\n",
            "[10/50]: loss_d: 0.185, loss_g: 5.565\n",
            "[11/50]: loss_d: 0.173, loss_g: 5.706\n",
            "[12/50]: loss_d: 0.163, loss_g: 5.863\n",
            "[13/50]: loss_d: 0.155, loss_g: 5.980\n",
            "[14/50]: loss_d: 0.147, loss_g: 6.135\n",
            "[15/50]: loss_d: 0.140, loss_g: 6.248\n",
            "[16/50]: loss_d: 0.134, loss_g: 6.344\n",
            "[17/50]: loss_d: 0.128, loss_g: 6.446\n",
            "[18/50]: loss_d: 0.122, loss_g: 6.582\n",
            "[19/50]: loss_d: 0.117, loss_g: 6.705\n",
            "[20/50]: loss_d: 0.112, loss_g: 6.822\n",
            "[21/50]: loss_d: 0.108, loss_g: 6.930\n",
            "[22/50]: loss_d: 0.104, loss_g: 7.048\n",
            "[23/50]: loss_d: 0.100, loss_g: 7.173\n",
            "[24/50]: loss_d: 0.097, loss_g: 7.323\n",
            "[25/50]: loss_d: 0.093, loss_g: 7.438\n",
            "[26/50]: loss_d: 0.090, loss_g: 7.548\n",
            "[27/50]: loss_d: 0.087, loss_g: 7.656\n",
            "[28/50]: loss_d: 0.085, loss_g: 7.782\n",
            "[29/50]: loss_d: 0.082, loss_g: 7.907\n",
            "[30/50]: loss_d: 0.080, loss_g: 8.034\n",
            "[31/50]: loss_d: 0.077, loss_g: 8.168\n",
            "[32/50]: loss_d: 0.075, loss_g: 8.283\n",
            "[33/50]: loss_d: 0.073, loss_g: 8.386\n",
            "[34/50]: loss_d: 0.071, loss_g: 8.505\n",
            "[35/50]: loss_d: 0.070, loss_g: 8.617\n",
            "[36/50]: loss_d: 0.068, loss_g: 8.709\n",
            "[37/50]: loss_d: 0.066, loss_g: 8.826\n",
            "[38/50]: loss_d: 0.065, loss_g: 8.907\n",
            "[39/50]: loss_d: 0.063, loss_g: 9.008\n",
            "[40/50]: loss_d: 0.062, loss_g: 9.128\n",
            "[41/50]: loss_d: 0.060, loss_g: 9.224\n",
            "[42/50]: loss_d: 0.059, loss_g: 9.298\n",
            "[43/50]: loss_d: 0.058, loss_g: 9.439\n",
            "[44/50]: loss_d: 0.057, loss_g: 9.541\n",
            "[45/50]: loss_d: 0.055, loss_g: 9.645\n",
            "[46/50]: loss_d: 0.054, loss_g: 9.744\n",
            "[47/50]: loss_d: 0.053, loss_g: 9.850\n",
            "[48/50]: loss_d: 0.052, loss_g: 9.934\n",
            "[49/50]: loss_d: 0.051, loss_g: 10.033\n",
            "[50/50]: loss_d: 0.050, loss_g: 10.210\n"
          ],
          "name": "stdout"
        },
        {
          "output_type": "stream",
          "text": [
            "/usr/local/lib/python3.6/dist-packages/torch/serialization.py:402: UserWarning: Couldn't retrieve source code for container of type Generator. It won't be checked for correctness upon loading.\n",
            "  \"type \" + obj.__name__ + \". It won't be checked \"\n",
            "/usr/local/lib/python3.6/dist-packages/torch/serialization.py:402: UserWarning: Couldn't retrieve source code for container of type Discriminator. It won't be checked for correctness upon loading.\n",
            "  \"type \" + obj.__name__ + \". It won't be checked \"\n"
          ],
          "name": "stderr"
        },
        {
          "output_type": "display_data",
          "data": {
            "image/png": "[encoded data removed]",
            "text/plain": [
              "<Figure size 432x288 with 1 Axes>"
            ]
          },
          "metadata": {
            "tags": [],
            "needs_background": "light"
          }
        }
      ]
    }
  ]
}